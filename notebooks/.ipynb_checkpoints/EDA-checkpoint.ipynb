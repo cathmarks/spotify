{
 "cells": [
  {
   "cell_type": "markdown",
   "metadata": {},
   "source": [
    "**Exploratory Data Analysis**\n",
    "\n",
    "Our project utilized two primary data sources:\n",
    "* [The Million Song Dataset](https://labrosa.ee.columbia.edu/millionsong/lastfm)\n",
    "* [The Million Playlist Dataset](http://recsys-challenge.spotify.com)\n",
    "\n",
    "**Million Songs Dataset**\n",
    "\n",
    "The Million Song Dataset contains the top one million songs played on Spotify, by number of plays. We began by cleaning the data. We uploaded the list of songs as a text file, and ran a for loop by line, and used the split method to separate the artist name and track name. Next, we made a function to generate the tags using the last.fm API, and created a function that cleaned (again using the split method) and added tags in a list based on the artist and track names. Lastly, we loaded all of the cleaned data into a pandas dataframe, and added a column counting the number of tags attached to each song.\n",
    "\n",
    "To explore the data, we initially looked at the first 500 unique tracks. For each song in this dataset, we were interested in retrieving the following information:\n",
    "* Track name\n",
    "* Artist\n",
    "* Number of tags\n",
    "* User-generated tags\n",
    "\n",
    "We next performed some additional exploratory analysis to look at the average number of tags per song, the number of songs tagged with each genre, and the proportion of songs.\n",
    "\n",
    "\n",
    "**Million Playlist Dataset**\n",
    "\n",
    "The Million Playlist Dataset contains the top one million playlists on Spotify, by number of followers. We cleaned the data by writing two python scripts: one to load the dataset into a csv file, and another to clean the data. We cleaned the data by normalizing names of the playlists (rewrote names in lowercase, removed special characters, and removed extraneous spaces) and removing irrelevant columns (collaborative, modified at, number of edits).\n",
    "\n",
    "To explore the data, we initially looked at the first 1,000 playlists. We pulled the following information:\n",
    "* Duration of playlists in minutes\n",
    "* Time when playlist was last edited\n",
    "* Number of albums in each playlist\n",
    "* Number of artists in each playlist\n",
    "* Number of followers in each playlist\n",
    "* Number of tracks in each playlist\n"
   ]
  },
  {
   "cell_type": "code",
   "execution_count": null,
   "metadata": {},
   "outputs": [],
   "source": []
  }
 ],
 "metadata": {
  "kernelspec": {
   "display_name": "Python 3",
   "language": "python",
   "name": "python3"
  },
  "language_info": {
   "codemirror_mode": {
    "name": "ipython",
    "version": 3
   },
   "file_extension": ".py",
   "mimetype": "text/x-python",
   "name": "python",
   "nbconvert_exporter": "python",
   "pygments_lexer": "ipython3",
   "version": "3.6.5"
  }
 },
 "nbformat": 4,
 "nbformat_minor": 2
}
